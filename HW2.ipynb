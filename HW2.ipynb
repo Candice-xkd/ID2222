{
 "cells": [
  {
   "cell_type": "markdown",
   "id": "da51a00d",
   "metadata": {},
   "source": [
    "# HW2--Group6"
   ]
  },
  {
   "cell_type": "markdown",
   "id": "95558723",
   "metadata": {},
   "source": [
    "kaidx@kth.se & zhenlinz@kth.se"
   ]
  },
  {
   "cell_type": "markdown",
   "id": "26522208",
   "metadata": {},
   "source": [
    "Task\n",
    "\n",
    "You are to solve the first sub-problem: to implement the A-Priori algorithm for finding frequent itemsets with support at least s in a dataset of sales transactions. Remind that support of an itemset is the number of transactions containing the itemset. To test and evaluate your implementation, write a program that uses your A-Priori algorithm implementation to discover frequent itemsets with support at least s in a given dataset of sales transactions.\n",
    "\n",
    "The implementation can be done using any big data processing framework, such as Apache Spark, Apache Flink, or no framework, e.g., in Java, Python, etc.  \n",
    "\n",
    "Optional task for extra bonus\n",
    "\n",
    "Solve the second sub-problem, i.e., develop and implement an algorithm for generating association rules between frequent itemsets discovered by using the A-Priori algorithm in a dataset of sales transactions. The rules must have support at least s and confidence at least c, where s and c are given as input parameters.\n",
    "\n"
   ]
  },
  {
   "cell_type": "markdown",
   "id": "71e72e51",
   "metadata": {},
   "source": [
    "# Implementation"
   ]
  },
  {
   "cell_type": "code",
   "execution_count": 19,
   "id": "43b03276",
   "metadata": {},
   "outputs": [],
   "source": [
    "import itertools\n",
    "import time"
   ]
  },
  {
   "cell_type": "markdown",
   "id": "5ff07c1d",
   "metadata": {},
   "source": [
    "Read data and create a baskets list."
   ]
  },
  {
   "cell_type": "code",
   "execution_count": 20,
   "id": "6f94c608",
   "metadata": {},
   "outputs": [],
   "source": [
    "# Create buskets list to store all the baskets(each line is a basket and turn the items into int type to store)\n",
    "def read_baskets():\n",
    "    baskets = []\n",
    "    with open('T10I4D100K.dat') as f:\n",
    "        for line in f:\n",
    "            items = line.split(' ')\n",
    "            items.remove('\\n')\n",
    "            baskets.append(list(map(int, items)))\n",
    "    return baskets"
   ]
  },
  {
   "cell_type": "markdown",
   "id": "705ba36d",
   "metadata": {},
   "source": [
    "For each k, we construct two sets of k-tuples (sets of size k): \n",
    "1. Ck = candidate k-tuples = those that might be frequent sets (support > s) based on information from the pass for k–1\n",
    "2. Lk = the set of truly frequent k-tuples, i.e. filter only those k-tuples from Ck that have support at least s"
   ]
  },
  {
   "cell_type": "code",
   "execution_count": 21,
   "id": "da0ec1b3",
   "metadata": {},
   "outputs": [],
   "source": [
    "# Count the support of items in C1 (to generate singletons later)\n",
    "def count_singletons(baskets):\n",
    "    count = {}\n",
    "    for basket in baskets:\n",
    "        for item in basket:\n",
    "            if item in count:\n",
    "                count[item] += 1\n",
    "            else:\n",
    "                count[item] = 1\n",
    "    return count\n",
    "\n",
    "\n",
    "# For k-1, filter frequent itemsets by pruning and return those whose support is at least as s with true support of each. \n",
    "def filter_frequent_items(items_count, support):\n",
    "    return {item: items_count[item] for item in items_count if items_count[item] >= support}\n",
    "\n"
   ]
  },
  {
   "cell_type": "code",
   "execution_count": 22,
   "id": "adffbd72",
   "metadata": {},
   "outputs": [],
   "source": [
    "# Construct candidates k-tuples from previous(k-1) frequent itemsets and singletons\n",
    "def generate_candidates(items, singletons):\n",
    "    candidates = {}\n",
    "    for item in items:\n",
    "        for singleton in singletons:\n",
    "            if singleton[0] not in item:\n",
    "             # for each itemset, iterate over singletons, if a singleton is not in the itemset, construct a new candidate.\n",
    "                candidate = tuple(sorted(item + singleton))  \n",
    "                if candidate not in candidates:\n",
    "                    candidates[candidate] = 0\n",
    "    return candidates\n",
    "\n",
    "\n",
    "\n",
    "\n",
    "# FAST IMPLEMENTATION: Generate all possible basket items combinations and check if they exist in candidates\n",
    "def count_candidates(baskets, candidates, candidate_length):\n",
    "    for basket in baskets:\n",
    "        basket_variations = itertools.combinations(basket, candidate_length)\n",
    "        for combination in basket_variations:\n",
    "            if combination in candidates:\n",
    "                candidates[combination] += 1\n",
    "    return candidates\n"
   ]
  },
  {
   "cell_type": "code",
   "execution_count": 35,
   "id": "8204014a",
   "metadata": {},
   "outputs": [],
   "source": [
    "# Compute the rule confidence\n",
    "def conf(k_tuple, arrow_position, frequent_itemsets):\n",
    "    before_arrow = k_tuple[:arrow_position]                      #arrow: rule -->\n",
    "    union_support = get_support(k_tuple, frequent_itemsets)\n",
    "    single_support = get_support(before_arrow, frequent_itemsets)\n",
    "    return union_support / single_support\n"
   ]
  },
  {
   "cell_type": "markdown",
   "id": "180931a5",
   "metadata": {},
   "source": [
    "# Evaluation and extra bonus task"
   ]
  },
  {
   "cell_type": "markdown",
   "id": "30f5457d",
   "metadata": {},
   "source": [
    "Here we define main() to implement the A-Priori algorithom on the given dataset.\n",
    "We set support threshold to 1000(i.e. 1% of all the baskets) and confidence=0.5.\n",
    "We first generate and count C1 and filter frequent singletons only with support at least as 1000, which is shown in the first part of ouptput.\n",
    "Then for k>=1, we use a loop to generate candidates from previous frequent itemset(k-1) and singletons(k=0). And we get nine 2-tuples, one 3-tuples and there is no 4-tuples or more.\n",
    "\n",
    "Finally, for k>=2, we find association rules by moving the arrow in each of the filtered frequent itemsets and calculating the confidence to see whose confidence is accross the threshold c. "
   ]
  },
  {
   "cell_type": "code",
   "execution_count": 36,
   "id": "a2b614b0",
   "metadata": {},
   "outputs": [
    {
     "name": "stdout",
     "output_type": "stream",
     "text": [
      "Frequent singletons with true support:\n",
      " {(25,): 1395, (52,): 1983, (240,): 1399, (274,): 2628, (368,): 7828, (448,): 1370, (538,): 3982, (561,): 2783, (630,): 1523, (687,): 1762, (775,): 3771, (825,): 3085, (834,): 1373, (39,): 4258, (120,): 4973, (205,): 3605, (401,): 3667, (581,): 2943, (704,): 1794, (814,): 1672, (35,): 1984, (674,): 2527, (733,): 1141, (854,): 2847, (950,): 1463, (422,): 1255, (449,): 1890, (857,): 1588, (895,): 3385, (937,): 4681, (964,): 1518, (229,): 2281, (283,): 4082, (294,): 1445, (381,): 2959, (708,): 1090, (738,): 2129, (766,): 6265, (853,): 1804, (883,): 4902, (966,): 3921, (978,): 1141, (104,): 1158, (143,): 1417, (569,): 2835, (620,): 2100, (798,): 3103, (185,): 1529, (214,): 1893, (350,): 3069, (529,): 7057, (658,): 1881, (682,): 4132, (782,): 2767, (809,): 2163, (947,): 3690, (970,): 2086, (227,): 1818, (390,): 2685, (71,): 3507, (192,): 2004, (208,): 1483, (279,): 3014, (280,): 2108, (496,): 1428, (530,): 1263, (597,): 2883, (618,): 1337, (675,): 2976, (720,): 3864, (914,): 4037, (932,): 1786, (183,): 3883, (217,): 5375, (276,): 2479, (653,): 2634, (706,): 1923, (878,): 2047, (161,): 2320, (175,): 2791, (177,): 4629, (424,): 1448, (490,): 1066, (571,): 2902, (623,): 1845, (795,): 3361, (910,): 1695, (960,): 2732, (125,): 1287, (130,): 1711, (392,): 2420, (461,): 1498, (862,): 3649, (27,): 2165, (78,): 2471, (900,): 1165, (921,): 2425, (147,): 1383, (411,): 2047, (572,): 1589, (579,): 2164, (778,): 2514, (803,): 2237, (266,): 1022, (290,): 1793, (458,): 1124, (523,): 2244, (614,): 3134, (888,): 3686, (944,): 2794, (43,): 1721, (70,): 2411, (204,): 2174, (334,): 2146, (480,): 2309, (513,): 1287, (874,): 2237, (151,): 2611, (504,): 1296, (890,): 1437, (73,): 2179, (310,): 1390, (419,): 5057, (469,): 1502, (722,): 5845, (810,): 1267, (844,): 2814, (846,): 1480, (918,): 3012, (967,): 1695, (326,): 1488, (403,): 1722, (526,): 2793, (774,): 2046, (788,): 2386, (789,): 4309, (975,): 1764, (116,): 2193, (198,): 1461, (201,): 1029, (171,): 1097, (541,): 3735, (701,): 1283, (805,): 1789, (946,): 1350, (471,): 2894, (487,): 3135, (631,): 2793, (638,): 2288, (678,): 1329, (735,): 1689, (780,): 2306, (935,): 1742, (17,): 1683, (242,): 2325, (758,): 2860, (763,): 1862, (956,): 3626, (145,): 4559, (385,): 1676, (676,): 2717, (790,): 1094, (792,): 1306, (885,): 3043, (522,): 2725, (617,): 2614, (859,): 1242, (12,): 3415, (296,): 2210, (354,): 5835, (548,): 2843, (684,): 5408, (740,): 1632, (841,): 1927, (210,): 2009, (346,): 3470, (477,): 2462, (605,): 1652, (829,): 6810, (884,): 1645, (234,): 1416, (460,): 4438, (649,): 1292, (746,): 1982, (600,): 1192, (28,): 1454, (157,): 1140, (5,): 1094, (115,): 1775, (517,): 1201, (736,): 1470, (744,): 2177, (919,): 3710, (196,): 2096, (489,): 3420, (494,): 5102, (641,): 1494, (673,): 1635, (362,): 4388, (591,): 1241, (31,): 1666, (58,): 1330, (181,): 1235, (472,): 2125, (573,): 1229, (628,): 1102, (651,): 1288, (111,): 1171, (154,): 1447, (168,): 1538, (580,): 1667, (632,): 1070, (832,): 2062, (871,): 2810, (988,): 1164, (72,): 2852, (981,): 1542, (10,): 1351, (132,): 2641, (21,): 2666, (32,): 4248, (54,): 2595, (239,): 2742, (348,): 1226, (100,): 1749, (500,): 1444, (48,): 2472, (126,): 1075, (319,): 1371, (639,): 1572, (765,): 1705, (521,): 1582, (112,): 2680, (140,): 2687, (285,): 2600, (387,): 2089, (511,): 1015, (594,): 1516, (93,): 2777, (583,): 1389, (606,): 2668, (236,): 2618, (952,): 1574, (90,): 1875, (593,): 2601, (941,): 1126, (122,): 1081, (718,): 1238, (1,): 1535, (423,): 1412, (516,): 1544, (6,): 2149, (69,): 2370, (797,): 2684, (913,): 1939, (577,): 1695, (110,): 1801, (509,): 3044, (611,): 1444, (995,): 1521, (343,): 1599, (527,): 1185, (33,): 1460, (336,): 1071, (989,): 1289, (97,): 1466, (574,): 1297, (793,): 3063, (598,): 3219, (427,): 1856, (470,): 4137, (37,): 1249, (992,): 1116, (55,): 1959, (897,): 1935, (275,): 1692, (51,): 1612, (259,): 1522, (45,): 1728, (162,): 1450, (378,): 1149, (534,): 1531, (906,): 1444, (912,): 1009, (576,): 1337, (373,): 2007, (716,): 1199, (546,): 1050, (665,): 1297, (963,): 1327, (349,): 2041, (8,): 3090, (197,): 1230, (413,): 2637, (749,): 1330, (823,): 1031, (94,): 1201, (982,): 1640, (984,): 1756, (515,): 1166, (692,): 4993, (694,): 2847, (567,): 1102, (57,): 2743, (800,): 1916, (812,): 1518, (41,): 1353, (414,): 1160, (923,): 1753, (377,): 1149, (752,): 2578, (991,): 1268, (998,): 2713, (899,): 1252, (710,): 1044, (867,): 1530, (170,): 1203, (438,): 4511, (563,): 1065, (357,): 1142, (332,): 1861, (361,): 1104, (322,): 1154, (928,): 1034, (75,): 3151, (486,): 1547, (440,): 1943, (38,): 2402, (784,): 1257, (265,): 1359, (686,): 1495, (540,): 1293, (468,): 1089, (663,): 2354, (819,): 1257, (886,): 3053, (429,): 1037, (843,): 1222, (129,): 1547, (578,): 1290, (510,): 3281, (68,): 1601, (860,): 1255, (4,): 1394, (887,): 1671, (309,): 1262, (804,): 1315, (325,): 1022, (826,): 2022, (394,): 1145, (707,): 1354, (105,): 1100, (815,): 1358, (948,): 1149, (308,): 1402, (661,): 2693, (634,): 2492, (351,): 1641, (405,): 1525, (688,): 1132, (949,): 1414, (163,): 1256, (893,): 1947, (335,): 1345, (173,): 1080, (258,): 1036, (85,): 1555, (450,): 2082, (428,): 1021, (550,): 1203, (769,): 1622, (554,): 1114, (366,): 1031, (820,): 1473, (207,): 1214}\n",
      "Frequent 2-tuples:\n",
      " {(368, 682): 1193, (368, 829): 1194, (39, 825): 1187, (704, 825): 1102, (39, 704): 1107, (227, 390): 1049, (390, 722): 1042, (217, 346): 1336, (789, 829): 1194}\n",
      "Frequent 3-tuples:\n",
      " {(39, 704, 825): 1035}\n",
      "Frequent 4-tuples:\n",
      " {}\n",
      "Association rules with true confidence:\n",
      " {('704 -> 39', 0.617056856187291), ('704 -> 39, 825', 0.5769230769230769), ('704, 825 -> 39', 0.9392014519056261), ('227 -> 390', 0.577007700770077), ('704 -> 825', 0.6142697881828316), ('39, 825 -> 704', 0.8719460825610783), ('39, 704 -> 825', 0.9349593495934959)}\n",
      "--- 5.866406202316284 seconds ---\n"
     ]
    }
   ],
   "source": [
    "def main():\n",
    "    support = 1000          # 1% of the baskets\n",
    "    confidence = 0.5\n",
    "    frequent_itemsets = []  # Returned results\n",
    "    associations = set()    # Generated associations rules\n",
    "\n",
    "    baskets = read_baskets()                                                 # Read data file\n",
    "    singletons_count = count_singletons(baskets)                             # Find and count singletons\n",
    "    filtered_items = filter_frequent_items(singletons_count, support)        # Filter frequent singletons\n",
    "    frequent_singletons = {(i,): filtered_items[i] for i in filtered_items}   # Wrap singletons in tuple to use the same data structure for pairs, triplets, etc.\n",
    "    frequent_itemsets.append(frequent_singletons)\n",
    "    print(\"Frequent singletons with true support:\\n\", frequent_singletons)\n",
    "\n",
    "    k = 1                                                                                   # For each k >= 1\n",
    "    while len(frequent_itemsets[k - 1]) > 0:                                                # While new frequent elements are found\n",
    "        candidates = generate_candidates(frequent_itemsets[k - 1], frequent_itemsets[0])    # Generate candidates from previous frequent itemset(k-1) and singletons(k=0)\n",
    "        candidates_count = count_candidates(baskets, candidates, k + 1)                     # Count candidates frequency\n",
    "        frequent_itemset = filter_frequent_items(candidates_count, support)                 # Filter frequent items\n",
    "        frequent_itemsets.append(frequent_itemset)\n",
    "        print(\"Frequent \" + str(k + 1) + \"-tuples:\\n\", frequent_itemsets[k])\n",
    "        k += 1\n",
    "\n",
    "    for frequent_itemset in frequent_itemsets[1:]:\n",
    "        for k_tuple in frequent_itemset:\n",
    "            for tuple_permutation in itertools.permutations(k_tuple, len(k_tuple)):\n",
    "                for arrow_position in reversed(range(1, len(tuple_permutation))): # arrow_position = 1 (A -> B,C,D) ; arrow_position = 2 (A,B -> C,D etc..)\n",
    "                    c = conf(tuple_permutation, arrow_position, frequent_itemsets)\n",
    "                    if c >= confidence:\n",
    "                        associations.add((', '.join(map(str, sorted(tuple_permutation[:arrow_position]))) + ' -> ' + ', '.join(map(str, sorted(tuple_permutation[arrow_position:]))), c))\n",
    "                    else:\n",
    "                        break # Known rule: If A,B,C -> D is below confidence so that A,B -> C,D. So no need to iterate over arrow positions futher\n",
    "\n",
    "    print(\"Association rules with true confidence:\\n\", associations)\n",
    "\n",
    "\n",
    "start_time = time.time()\n",
    "main()\n",
    "print(\"--- %s seconds ---\" % (time.time() - start_time))"
   ]
  },
  {
   "cell_type": "code",
   "execution_count": null,
   "id": "a68095ed",
   "metadata": {},
   "outputs": [],
   "source": []
  }
 ],
 "metadata": {
  "kernelspec": {
   "display_name": "Python 3",
   "language": "python",
   "name": "python3"
  },
  "language_info": {
   "codemirror_mode": {
    "name": "ipython",
    "version": 3
   },
   "file_extension": ".py",
   "mimetype": "text/x-python",
   "name": "python",
   "nbconvert_exporter": "python",
   "pygments_lexer": "ipython3",
   "version": "3.8.8"
  }
 },
 "nbformat": 4,
 "nbformat_minor": 5
}
